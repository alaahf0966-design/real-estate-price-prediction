{
 "cells": [
  {
   "cell_type": "code",
   "execution_count": null,
   "id": "c851cc4b-024b-4a86-b9f2-dc3f3a312453",
   "metadata": {},
   "outputs": [],
   "source": []
  }
 ],
 "metadata": {
  "kernelspec": {
   "display_name": "",
   "name": ""
  },
  "language_info": {
   "name": ""
  }
 },
 "nbformat": 4,
 "nbformat_minor": 5
}
