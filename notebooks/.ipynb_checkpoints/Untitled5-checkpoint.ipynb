{
 "cells": [
  {
   "cell_type": "code",
   "execution_count": null,
   "id": "43b2bec2-d78a-4b09-8f58-a13ffb076b07",
   "metadata": {},
   "outputs": [],
   "source": []
  }
 ],
 "metadata": {
  "kernelspec": {
   "display_name": "",
   "name": ""
  },
  "language_info": {
   "name": ""
  }
 },
 "nbformat": 4,
 "nbformat_minor": 5
}
