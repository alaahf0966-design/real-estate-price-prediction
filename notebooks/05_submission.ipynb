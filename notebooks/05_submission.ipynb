{
 "cells": [
  {
   "cell_type": "code",
   "execution_count": 1,
   "id": "bfe2f037-ad1d-4f69-9b3b-acc7df8e6614",
   "metadata": {},
   "outputs": [
    {
     "name": "stdout",
     "output_type": "stream",
     "text": [
      "✅ Saved submission file to ../data/submission.csv\n"
     ]
    }
   ],
   "source": [
    "import pandas as pd\n",
    "from sklearn.ensemble import RandomForestRegressor\n",
    "\n",
    "# ======================\n",
    "# 1) Load cleaned train and raw test datasets\n",
    "# ======================\n",
    "train = pd.read_csv(\"../data/train_cleaned.csv\")\n",
    "test = pd.read_csv(\"../data/test.csv\")\n",
    "\n",
    "# ======================\n",
    "# 2) Prepare train dataset\n",
    "# ======================\n",
    "y = train[\"SalePrice\"]         # Target\n",
    "X = train.drop(\"SalePrice\", axis=1)   # Features\n",
    "\n",
    "# ======================\n",
    "# 3) Prepare test dataset\n",
    "# ======================\n",
    "# Fill numeric missing values with median\n",
    "num_cols = test.select_dtypes(include=[\"number\"]).columns\n",
    "for col in num_cols:\n",
    "    test[col] = test[col].fillna(test[col].median())\n",
    "\n",
    "# Fill categorical missing values with \"Missing\"\n",
    "cat_cols = test.select_dtypes(include=[\"object\"]).columns\n",
    "for col in cat_cols:\n",
    "    test[col] = test[col].fillna(\"Missing\")\n",
    "\n",
    "# One-hot encoding\n",
    "X_encoded = pd.get_dummies(X, drop_first=True)\n",
    "test_encoded = pd.get_dummies(test, drop_first=True)\n",
    "\n",
    "# Align columns between train and test\n",
    "X_encoded, test_encoded = X_encoded.align(test_encoded, join=\"left\", axis=1)\n",
    "test_encoded = test_encoded.fillna(0)\n",
    "\n",
    "# ======================\n",
    "# 4) Train model on full training set\n",
    "# ======================\n",
    "rf = RandomForestRegressor(n_estimators=200, max_depth=20, random_state=42)\n",
    "rf.fit(X_encoded, y)\n",
    "\n",
    "# ======================\n",
    "# 5) Predict on test set\n",
    "# ======================\n",
    "predictions = rf.predict(test_encoded)\n",
    "\n",
    "# ======================\n",
    "# 6) Create submission file\n",
    "# ======================\n",
    "submission = pd.DataFrame({\n",
    "    \"Id\": test[\"Id\"],\n",
    "    \"SalePrice\": predictions\n",
    "})\n",
    "\n",
    "submission.to_csv(\"../data/submission.csv\", index=False)\n",
    "print(\"✅ Saved submission file to ../data/submission.csv\")\n"
   ]
  },
  {
   "cell_type": "code",
   "execution_count": null,
   "id": "7f4abfe9-cdf5-42bd-90a1-be38f10e614c",
   "metadata": {},
   "outputs": [],
   "source": []
  },
  {
   "cell_type": "code",
   "execution_count": null,
   "id": "371f9d1d-d59d-4669-a76b-fbfb924aebd0",
   "metadata": {},
   "outputs": [],
   "source": []
  }
 ],
 "metadata": {
  "kernelspec": {
   "display_name": "Python 3 (ipykernel)",
   "language": "python",
   "name": "python3"
  },
  "language_info": {
   "codemirror_mode": {
    "name": "ipython",
    "version": 3
   },
   "file_extension": ".py",
   "mimetype": "text/x-python",
   "name": "python",
   "nbconvert_exporter": "python",
   "pygments_lexer": "ipython3",
   "version": "3.13.3"
  }
 },
 "nbformat": 4,
 "nbformat_minor": 5
}
