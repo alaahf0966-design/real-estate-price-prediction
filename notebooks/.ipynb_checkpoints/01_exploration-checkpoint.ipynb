{
 "cells": [
  {
   "cell_type": "code",
   "execution_count": 4,
   "id": "f9ee67f0-4ba6-48ae-aa8b-43245128c878",
   "metadata": {},
   "outputs": [
    {
     "ename": "SyntaxError",
     "evalue": "invalid decimal literal (1284834750.py, line 1)",
     "output_type": "error",
     "traceback": [
      "  \u001b[36mCell\u001b[39m\u001b[36m \u001b[39m\u001b[32mIn[4]\u001b[39m\u001b[32m, line 1\u001b[39m\n\u001b[31m    \u001b[39m\u001b[31m01_exploration.ipynb\u001b[39m\n      ^\n\u001b[31mSyntaxError\u001b[39m\u001b[31m:\u001b[39m invalid decimal literal\n"
     ]
    }
   ],
   "source": [
    "import pandas as pd\n",
    "import seaborn as sns\n",
    "import matplotlib.pyplot as plt\n",
    "\n",
    "# ======================\n",
    "# 1) Load the dataset\n",
    "# ======================\n",
    "df = pd.read_csv(\"../data/train.csv\")\n",
    "\n",
    "# ======================\n",
    "# 2) Basic overview\n",
    "# ======================\n",
    "print(\"Shape (rows, columns):\", df.shape)\n",
    "print(\"\\nFirst 5 rows:\\n\", df.head())\n",
    "print(\"\\nInfo:\")\n",
    "print(df.info())\n",
    "print(\"\\nDescribe:\\n\", df.describe())\n",
    "\n",
    "# ======================\n",
    "# 3) SalePrice distribution\n",
    "# ======================\n",
    "plt.figure(figsize=(8,5))\n",
    "sns.histplot(df[\"SalePrice\"], kde=True)\n",
    "plt.title(\"Distribution of House Prices\")\n",
    "plt.xlabel(\"SalePrice\")\n",
    "plt.ylabel(\"Count\")\n",
    "plt.show()\n",
    "\n",
    "print(\"\\nSalePrice stats:\\n\", df[\"SalePrice\"].describe())\n",
    "\n",
    "# ======================\n",
    "# 4) Relationships between features and SalePrice\n",
    "# ======================\n",
    "\n",
    "# Living area vs SalePrice\n",
    "plt.figure(figsize=(8,5))\n",
    "sns.scatterplot(x=df[\"GrLivArea\"], y=df[\"SalePrice\"])\n",
    "plt.title(\"Living Area vs Sale Price\")\n",
    "plt.xlabel(\"GrLivArea\")\n",
    "plt.ylabel(\"SalePrice\")\n",
    "plt.show()\n",
    "\n",
    "# Overall quality vs SalePrice\n",
    "plt.figure(figsize=(8,5))\n",
    "sns.boxplot(x=df[\"OverallQual\"], y=df[\"SalePrice\"])\n",
    "plt.title(\"Overall Quality vs Sale Price\")\n",
    "plt.xlabel(\"OverallQual\")\n",
    "plt.ylabel(\"SalePrice\")\n",
    "plt.show()\n",
    "\n",
    "# ======================\n",
    "# 5) Missing values\n",
    "# ======================\n",
    "missing = df.isnull().sum()\n",
    "missing = missing[missing > 0].sort_values(ascending=False)\n",
    "print(\"\\nMissing values per column:\\n\", missing)\n",
    "\n",
    "plt.figure(figsize=(10,6))\n",
    "sns.barplot(x=missing.values, y=missing.index)\n",
    "plt.title(\"Missing Values by Feature\")\n",
    "plt.xlabel(\"Count\")\n",
    "plt.ylabel(\"Feature\")\n",
    "plt.show()\n",
    "\n",
    "# ======================\n",
    "# 6) Correlation Heatmap\n",
    "# ======================\n",
    "plt.figure(figsize=(12,8))\n",
    "corr = df.corr(numeric_only=True)\n",
    "sns.heatmap(corr, cmap=\"coolwarm\", annot=False, linewidths=0.5)\n",
    "plt.title(\"Correlation Heatmap (numeric features)\")\n",
    "plt.show()\n",
    "\n",
    "# Top features most correlated with SalePrice\n",
    "top_corr = corr[\"SalePrice\"].abs().sort_values(ascending=False).head(10)\n",
    "print(\"\\nTop correlated features with SalePrice:\\n\", top_corr)\n"
   ]
  },
  {
   "cell_type": "code",
   "execution_count": null,
   "id": "13f25339-f10e-4798-85c2-18c4724b9a9e",
   "metadata": {},
   "outputs": [],
   "source": []
  }
 ],
 "metadata": {
  "kernelspec": {
   "display_name": "Python 3 (ipykernel)",
   "language": "python",
   "name": "python3"
  },
  "language_info": {
   "codemirror_mode": {
    "name": "ipython",
    "version": 3
   },
   "file_extension": ".py",
   "mimetype": "text/x-python",
   "name": "python",
   "nbconvert_exporter": "python",
   "pygments_lexer": "ipython3",
   "version": "3.13.3"
  }
 },
 "nbformat": 4,
 "nbformat_minor": 5
}
