{
 "cells": [
  {
   "cell_type": "code",
   "execution_count": null,
   "id": "9bf7a876-74d9-4a93-b667-497a7da0b69e",
   "metadata": {},
   "outputs": [],
   "source": []
  }
 ],
 "metadata": {
  "kernelspec": {
   "display_name": "",
   "name": ""
  },
  "language_info": {
   "name": ""
  }
 },
 "nbformat": 4,
 "nbformat_minor": 5
}
