{
 "cells": [
  {
   "cell_type": "code",
   "execution_count": null,
   "id": "3120855c-86ef-41d4-8869-a4b4a54932fc",
   "metadata": {},
   "outputs": [],
   "source": []
  }
 ],
 "metadata": {
  "kernelspec": {
   "display_name": "",
   "name": ""
  },
  "language_info": {
   "name": ""
  }
 },
 "nbformat": 4,
 "nbformat_minor": 5
}
