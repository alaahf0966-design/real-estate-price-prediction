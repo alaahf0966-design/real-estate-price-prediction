{
 "cells": [
  {
   "cell_type": "code",
   "execution_count": null,
   "id": "2417e269-d259-4653-b74e-ad94f91d0e81",
   "metadata": {},
   "outputs": [],
   "source": [
    "import pandas as pd\n",
    "import numpy as np\n",
    "from sklearn.model_selection import train_test_split\n",
    "from sklearn.metrics import mean_squared_error\n",
    "import xgboost as xgb\n",
    "\n",
    "# ======================\n",
    "# 1) Load cleaned dataset\n",
    "# ======================\n",
    "df = pd.read_csv(\"../data/train_cleaned.csv\")\n",
    "\n",
    "X = df.drop(\"SalePrice\", axis=1)\n",
    "y = df[\"SalePrice\"]\n",
    "\n",
    "# Train/validation split\n",
    "X_train, X_val, y_train, y_val = train_test_split(\n",
    "    X, y, test_size=0.2, random_state=42\n",
    ")\n",
    "\n",
    "print(\"Training set:\", X_train.shape, \"Validation set:\", X_val.shape)\n",
    "\n",
    "# ======================\n",
    "# 2) Train XGBoost model\n",
    "# ======================\n",
    "xgb_model = xgb.XGBRegressor(\n",
    "    n_estimators=1000,       # number of trees\n",
    "    learning_rate=0.05,      # step size\n",
    "    max_depth=4,             # depth of each tree\n",
    "    subsample=0.8,           # % of samples used per tree\n",
    "    colsample_bytree=0.8,    # % of features used per tree\n",
    "    random_state=42,\n",
    "    n_jobs=-1\n",
    ")\n",
    "\n",
    "xgb_model.fit(\n",
    "    X_train, y_train,\n",
    "    early_stopping_rounds=50,      # stop if no improvement\n",
    "    eval_set=[(X_val, y_val)],\n",
    "    verbose=100\n",
    ")\n",
    "\n",
    "# ======================\n",
    "# 3) Evaluate model\n",
    "# ======================\n",
    "y_pred = xgb_model.predict(X_val)\n",
    "rmse = np.sqrt(mean_squared_error(y_val, y_pred))\n",
    "print(\"XGBoost RMSE:\", rmse)\n",
    "\n",
    "# ======================\n",
    "# 4) Save model (optional)\n",
    "# ======================\n",
    "xgb_model.save_model(\"../src/xgb_model.json\")\n",
    "print(\"✅ XGBoost model saved to ../src/xgb_model.json\")\n"
   ]
  }
 ],
 "metadata": {
  "kernelspec": {
   "display_name": "Python 3 (ipykernel)",
   "language": "python",
   "name": "python3"
  },
  "language_info": {
   "codemirror_mode": {
    "name": "ipython",
    "version": 3
   },
   "file_extension": ".py",
   "mimetype": "text/x-python",
   "name": "python",
   "nbconvert_exporter": "python",
   "pygments_lexer": "ipython3",
   "version": "3.13.3"
  }
 },
 "nbformat": 4,
 "nbformat_minor": 5
}
