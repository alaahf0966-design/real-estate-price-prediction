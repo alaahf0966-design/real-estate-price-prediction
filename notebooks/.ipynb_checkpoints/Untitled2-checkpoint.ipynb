{
 "cells": [
  {
   "cell_type": "code",
   "execution_count": null,
   "id": "d22f6b9d-6145-48a5-adb8-3c8ec7307cf8",
   "metadata": {},
   "outputs": [],
   "source": [
    "import pandas as pd\n",
    "import numpy as np\n",
    "\n",
    "# ======================\n",
    "# 1) Load the dataset\n",
    "# ======================\n",
    "df = pd.read_csv(\"../data/train.csv\")\n",
    "\n",
    "print(\"Shape before cleaning:\", df.shape)\n",
    "\n",
    "# ======================\n",
    "# 2) Handle missing values\n",
    "# ======================\n",
    "# Count missing values\n",
    "missing = df.isnull().sum()\n",
    "missing = missing[missing > 0].sort_values(ascending=False)\n",
    "print(\"\\nMissing values per column (top 20):\\n\", missing.head(20))\n",
    "\n",
    "# Drop columns with more than 40% missing values\n",
    "threshold = 0.4 * len(df)\n",
    "df = df.dropna(thresh=threshold, axis=1)\n",
    "\n",
    "# For numeric columns → fill missing values with the median\n",
    "num_cols = df.select_dtypes(include=[np.number]).columns\n",
    "for col in num_cols:\n",
    "    df[col] = df[col].fillna(df[col].median())\n",
    "\n",
    "# For categorical columns → fill missing values with the string \"Missing\"\n",
    "cat_cols = df.select_dtypes(include=['object']).columns\n",
    "for col in cat_cols:\n",
    "    df[col] = df[col].fillna(\"Missing\")\n",
    "\n",
    "print(\"Shape after cleaning:\", df.shape)\n",
    "\n",
    "# ======================\n",
    "# 3) Encode categorical variables\n",
    "# ======================\n",
    "# One-Hot Encoding for categorical columns\n",
    "df_encoded = pd.get_dummies(df, drop_first=True)\n",
    "\n",
    "print(\"Shape after encoding:\", df_encoded.shape)\n",
    "\n",
    "# ======================\n",
    "# 4) Feature Engineering\n",
    "# ======================\n",
    "# Example: create a new feature for total square footage\n",
    "df_encoded[\"TotalSF\"] = df_encoded[\"GrLivArea\"] + df_encoded.get(\"TotalBsmtSF\", 0)\n",
    "\n",
    "print(\"\\nNew feature added: TotalSF\")\n",
    "\n",
    "# ======================\n",
    "# 5) Save the cleaned dataset\n",
    "# ======================\n",
    "df_encoded.to_csv(\"../data/train_cleaned.csv\", index=False)\n",
    "print(\"\\nSaved cleaned dataset to ../data/train_cleaned.csv\")\n"
   ]
  }
 ],
 "metadata": {
  "kernelspec": {
   "display_name": "Python 3 (ipykernel)",
   "language": "python",
   "name": "python3"
  },
  "language_info": {
   "codemirror_mode": {
    "name": "ipython",
    "version": 3
   },
   "file_extension": ".py",
   "mimetype": "text/x-python",
   "name": "python",
   "nbconvert_exporter": "python",
   "pygments_lexer": "ipython3",
   "version": "3.13.3"
  }
 },
 "nbformat": 4,
 "nbformat_minor": 5
}
