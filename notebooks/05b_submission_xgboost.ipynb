{
 "cells": [
  {
   "cell_type": "code",
   "execution_count": 1,
   "id": "1d0caa80-82fe-4bbd-8a3d-165ed12f6903",
   "metadata": {},
   "outputs": [
    {
     "name": "stdout",
     "output_type": "stream",
     "text": [
      "✅ Saved submission file to ../data/submission_xgboost.csv\n"
     ]
    }
   ],
   "source": [
    "import pandas as pd\n",
    "import xgboost as xgb\n",
    "\n",
    "# ======================\n",
    "# 1) Load datasets\n",
    "# ======================\n",
    "train = pd.read_csv(\"../data/train_cleaned.csv\")\n",
    "test = pd.read_csv(\"../data/test.csv\")\n",
    "\n",
    "# Separate target and features\n",
    "y = train[\"SalePrice\"]\n",
    "X = train.drop(\"SalePrice\", axis=1)\n",
    "\n",
    "# ======================\n",
    "# 2) Prepare test dataset\n",
    "# ======================\n",
    "# Fill numeric missing values with median\n",
    "num_cols = test.select_dtypes(include=[\"number\"]).columns\n",
    "for col in num_cols:\n",
    "    test[col] = test[col].fillna(test[col].median())\n",
    "\n",
    "# Fill categorical missing values with \"Missing\"\n",
    "cat_cols = test.select_dtypes(include=[\"object\"]).columns\n",
    "for col in cat_cols:\n",
    "    test[col] = test[col].fillna(\"Missing\")\n",
    "\n",
    "# One-hot encoding\n",
    "X_encoded = pd.get_dummies(X, drop_first=True)\n",
    "test_encoded = pd.get_dummies(test, drop_first=True)\n",
    "\n",
    "# Align columns\n",
    "X_encoded, test_encoded = X_encoded.align(test_encoded, join=\"left\", axis=1)\n",
    "test_encoded = test_encoded.fillna(0)\n",
    "\n",
    "# Convert to DMatrix\n",
    "dtrain = xgb.DMatrix(X_encoded, label=y)\n",
    "dtest = xgb.DMatrix(test_encoded)\n",
    "\n",
    "# ======================\n",
    "# 3) Train final XGBoost model\n",
    "# ======================\n",
    "params = {\n",
    "    \"objective\": \"reg:squarederror\",\n",
    "    \"eval_metric\": \"rmse\",\n",
    "    \"eta\": 0.05,\n",
    "    \"max_depth\": 4,\n",
    "    \"subsample\": 0.8,\n",
    "    \"colsample_bytree\": 0.8,\n",
    "    \"seed\": 42\n",
    "}\n",
    "\n",
    "final_model = xgb.train(\n",
    "    params=params,\n",
    "    dtrain=dtrain,\n",
    "    num_boost_round=313   # same as best iteration found\n",
    ")\n",
    "\n",
    "# ======================\n",
    "# 4) Predict on test set\n",
    "# ======================\n",
    "predictions = final_model.predict(dtest)\n",
    "\n",
    "# ======================\n",
    "# 5) Save submission\n",
    "# ======================\n",
    "submission = pd.DataFrame({\n",
    "    \"Id\": test[\"Id\"],\n",
    "    \"SalePrice\": predictions\n",
    "})\n",
    "\n",
    "submission.to_csv(\"../data/submission_xgboost.csv\", index=False)\n",
    "print(\"✅ Saved submission file to ../data/submission_xgboost.csv\")\n"
   ]
  },
  {
   "cell_type": "code",
   "execution_count": null,
   "id": "57c451a0-8a30-4873-9eec-10e6eb1d1096",
   "metadata": {},
   "outputs": [],
   "source": []
  }
 ],
 "metadata": {
  "kernelspec": {
   "display_name": "Python 3 (ipykernel)",
   "language": "python",
   "name": "python3"
  },
  "language_info": {
   "codemirror_mode": {
    "name": "ipython",
    "version": 3
   },
   "file_extension": ".py",
   "mimetype": "text/x-python",
   "name": "python",
   "nbconvert_exporter": "python",
   "pygments_lexer": "ipython3",
   "version": "3.13.3"
  }
 },
 "nbformat": 4,
 "nbformat_minor": 5
}
